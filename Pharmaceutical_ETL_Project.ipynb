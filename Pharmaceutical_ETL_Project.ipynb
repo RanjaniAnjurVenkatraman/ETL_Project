{
 "cells": [
  {
   "cell_type": "markdown",
   "id": "7bb7e767",
   "metadata": {},
   "source": [
    "# To perform Extraction, Transformation and Loading for Pharmaceutical data"
   ]
  },
  {
   "cell_type": "markdown",
   "id": "c413e23c",
   "metadata": {},
   "source": [
    "\n",
    "\n",
    "\n",
    "## Background: \n",
    "Our team is interested in working with healthcare data. We are aiming to look into pharmaceutical spending across the globe, to determine which countries have the highest spending percentage and how much each country is spending on off the shelf pharmaceutical medicines. Data will be extracted from the sources listed below, transformed using Python, Pandas and SQL, and loaded into PostgreSQL. We will then present our ETL project via an html file using Flask. This can be used by pharmaceutical companies to promote products globally.\n"
   ]
  },
  {
   "cell_type": "markdown",
   "id": "5aa63379",
   "metadata": {},
   "source": [
    "## Data\n",
    "\n",
    "POPULATION : https://datahub.io/core/population#pandas\n",
    "\n",
    "PHARMACEUTICAL_SPENDING : https://data.oecd.org/healthres/pharmaceutical-spending.htm#indicator-chart\n",
    "        \n",
    "        "
   ]
  },
  {
   "cell_type": "code",
   "execution_count": 1,
   "id": "e596806c",
   "metadata": {},
   "outputs": [],
   "source": [
    "# Importing required packages\n",
    "\n",
    "import datapackage\n",
    "import pandas as pd\n",
    "from sqlalchemy import create_engine\n",
    "\n",
    "\n"
   ]
  },
  {
   "cell_type": "markdown",
   "id": "499665af",
   "metadata": {},
   "source": [
    "## Extraction: Data 1 - Population data from JSON file"
   ]
  },
  {
   "cell_type": "code",
   "execution_count": 2,
   "id": "370a79db",
   "metadata": {},
   "outputs": [
    {
     "name": "stdout",
     "output_type": "stream",
     "text": [
      "      Country Name Country Code  Year      Value\n",
      "0       Arab World          ARB  1960   92197753\n",
      "1       Arab World          ARB  1961   94724510\n",
      "2       Arab World          ARB  1962   97334442\n",
      "3       Arab World          ARB  1963  100034179\n",
      "4       Arab World          ARB  1964  102832760\n",
      "...            ...          ...   ...        ...\n",
      "15404     Zimbabwe          ZWE  2014   13586681\n",
      "15405     Zimbabwe          ZWE  2015   13814629\n",
      "15406     Zimbabwe          ZWE  2016   14030390\n",
      "15407     Zimbabwe          ZWE  2017   14236745\n",
      "15408     Zimbabwe          ZWE  2018   14439018\n",
      "\n",
      "[15409 rows x 4 columns]\n",
      "      Country Name Country Code  Year      Value\n",
      "0       Arab World          ARB  1960   92197753\n",
      "1       Arab World          ARB  1961   94724510\n",
      "2       Arab World          ARB  1962   97334442\n",
      "3       Arab World          ARB  1963  100034179\n",
      "4       Arab World          ARB  1964  102832760\n",
      "...            ...          ...   ...        ...\n",
      "15404     Zimbabwe          ZWE  2014   13586681\n",
      "15405     Zimbabwe          ZWE  2015   13814629\n",
      "15406     Zimbabwe          ZWE  2016   14030390\n",
      "15407     Zimbabwe          ZWE  2017   14236745\n",
      "15408     Zimbabwe          ZWE  2018   14439018\n",
      "\n",
      "[15409 rows x 4 columns]\n"
     ]
    }
   ],
   "source": [
    "data_url = 'https://datahub.io/core/population/datapackage.json'\n",
    "package = datapackage.Package(data_url)\n",
    "\n",
    "# To load only tabular data\n",
    "resources = package.resources\n",
    "for resource in resources:\n",
    "    if resource.tabular:\n",
    "        data = pd.read_csv(resource.descriptor['path'])\n",
    "        print (data)"
   ]
  },
  {
   "cell_type": "code",
   "execution_count": 3,
   "id": "d28929ce",
   "metadata": {},
   "outputs": [
    {
     "data": {
      "text/html": [
       "<div>\n",
       "<style scoped>\n",
       "    .dataframe tbody tr th:only-of-type {\n",
       "        vertical-align: middle;\n",
       "    }\n",
       "\n",
       "    .dataframe tbody tr th {\n",
       "        vertical-align: top;\n",
       "    }\n",
       "\n",
       "    .dataframe thead th {\n",
       "        text-align: right;\n",
       "    }\n",
       "</style>\n",
       "<table border=\"1\" class=\"dataframe\">\n",
       "  <thead>\n",
       "    <tr style=\"text-align: right;\">\n",
       "      <th></th>\n",
       "      <th>Country Name</th>\n",
       "      <th>Country Code</th>\n",
       "      <th>Year</th>\n",
       "      <th>Value</th>\n",
       "    </tr>\n",
       "  </thead>\n",
       "  <tbody>\n",
       "    <tr>\n",
       "      <th>0</th>\n",
       "      <td>Arab World</td>\n",
       "      <td>ARB</td>\n",
       "      <td>1960</td>\n",
       "      <td>92197753</td>\n",
       "    </tr>\n",
       "    <tr>\n",
       "      <th>1</th>\n",
       "      <td>Arab World</td>\n",
       "      <td>ARB</td>\n",
       "      <td>1961</td>\n",
       "      <td>94724510</td>\n",
       "    </tr>\n",
       "    <tr>\n",
       "      <th>2</th>\n",
       "      <td>Arab World</td>\n",
       "      <td>ARB</td>\n",
       "      <td>1962</td>\n",
       "      <td>97334442</td>\n",
       "    </tr>\n",
       "    <tr>\n",
       "      <th>3</th>\n",
       "      <td>Arab World</td>\n",
       "      <td>ARB</td>\n",
       "      <td>1963</td>\n",
       "      <td>100034179</td>\n",
       "    </tr>\n",
       "    <tr>\n",
       "      <th>4</th>\n",
       "      <td>Arab World</td>\n",
       "      <td>ARB</td>\n",
       "      <td>1964</td>\n",
       "      <td>102832760</td>\n",
       "    </tr>\n",
       "  </tbody>\n",
       "</table>\n",
       "</div>"
      ],
      "text/plain": [
       "  Country Name Country Code  Year      Value\n",
       "0   Arab World          ARB  1960   92197753\n",
       "1   Arab World          ARB  1961   94724510\n",
       "2   Arab World          ARB  1962   97334442\n",
       "3   Arab World          ARB  1963  100034179\n",
       "4   Arab World          ARB  1964  102832760"
      ]
     },
     "execution_count": 3,
     "metadata": {},
     "output_type": "execute_result"
    }
   ],
   "source": [
    "# To convert into dataframe\n",
    "\n",
    "population = pd.DataFrame(data)\n",
    "population.head()"
   ]
  },
  {
   "cell_type": "markdown",
   "id": "723bb4df",
   "metadata": {},
   "source": [
    "## Transformation"
   ]
  },
  {
   "cell_type": "code",
   "execution_count": 4,
   "id": "14b587f9",
   "metadata": {},
   "outputs": [
    {
     "data": {
      "text/html": [
       "<div>\n",
       "<style scoped>\n",
       "    .dataframe tbody tr th:only-of-type {\n",
       "        vertical-align: middle;\n",
       "    }\n",
       "\n",
       "    .dataframe tbody tr th {\n",
       "        vertical-align: top;\n",
       "    }\n",
       "\n",
       "    .dataframe thead th {\n",
       "        text-align: right;\n",
       "    }\n",
       "</style>\n",
       "<table border=\"1\" class=\"dataframe\">\n",
       "  <thead>\n",
       "    <tr style=\"text-align: right;\">\n",
       "      <th></th>\n",
       "      <th>Country Name</th>\n",
       "      <th>Country Code</th>\n",
       "      <th>Year</th>\n",
       "      <th>Value</th>\n",
       "    </tr>\n",
       "  </thead>\n",
       "  <tbody>\n",
       "    <tr>\n",
       "      <th>58</th>\n",
       "      <td>Arab World</td>\n",
       "      <td>ARB</td>\n",
       "      <td>2018</td>\n",
       "      <td>419790588</td>\n",
       "    </tr>\n",
       "    <tr>\n",
       "      <th>117</th>\n",
       "      <td>Caribbean small states</td>\n",
       "      <td>CSS</td>\n",
       "      <td>2018</td>\n",
       "      <td>7358965</td>\n",
       "    </tr>\n",
       "    <tr>\n",
       "      <th>176</th>\n",
       "      <td>Central Europe and the Baltics</td>\n",
       "      <td>CEB</td>\n",
       "      <td>2018</td>\n",
       "      <td>102511922</td>\n",
       "    </tr>\n",
       "    <tr>\n",
       "      <th>235</th>\n",
       "      <td>Early-demographic dividend</td>\n",
       "      <td>EAR</td>\n",
       "      <td>2018</td>\n",
       "      <td>3249140605</td>\n",
       "    </tr>\n",
       "    <tr>\n",
       "      <th>294</th>\n",
       "      <td>East Asia &amp; Pacific</td>\n",
       "      <td>EAS</td>\n",
       "      <td>2018</td>\n",
       "      <td>2328220870</td>\n",
       "    </tr>\n",
       "  </tbody>\n",
       "</table>\n",
       "</div>"
      ],
      "text/plain": [
       "                       Country Name Country Code  Year       Value\n",
       "58                       Arab World          ARB  2018   419790588\n",
       "117          Caribbean small states          CSS  2018     7358965\n",
       "176  Central Europe and the Baltics          CEB  2018   102511922\n",
       "235      Early-demographic dividend          EAR  2018  3249140605\n",
       "294             East Asia & Pacific          EAS  2018  2328220870"
      ]
     },
     "execution_count": 4,
     "metadata": {},
     "output_type": "execute_result"
    }
   ],
   "source": [
    "# Filtering based on year \n",
    "n_population = population[population.Year == 2018]\n",
    "n_population.head()"
   ]
  },
  {
   "cell_type": "code",
   "execution_count": 5,
   "id": "ec0f71ba",
   "metadata": {},
   "outputs": [
    {
     "data": {
      "text/plain": [
       "pandas.core.frame.DataFrame"
      ]
     },
     "execution_count": 5,
     "metadata": {},
     "output_type": "execute_result"
    }
   ],
   "source": [
    "type(n_population)"
   ]
  },
  {
   "cell_type": "code",
   "execution_count": 6,
   "id": "d4f556a6",
   "metadata": {},
   "outputs": [
    {
     "name": "stdout",
     "output_type": "stream",
     "text": [
      "<class 'pandas.core.frame.DataFrame'>\n",
      "Int64Index: 262 entries, 58 to 15408\n",
      "Data columns (total 4 columns):\n",
      " #   Column        Non-Null Count  Dtype \n",
      "---  ------        --------------  ----- \n",
      " 0   Country Name  262 non-null    object\n",
      " 1   Country Code  262 non-null    object\n",
      " 2   Year          262 non-null    int64 \n",
      " 3   Value         262 non-null    int64 \n",
      "dtypes: int64(2), object(2)\n",
      "memory usage: 10.2+ KB\n"
     ]
    }
   ],
   "source": [
    "# Describing data\n",
    "n_population.info()"
   ]
  },
  {
   "cell_type": "code",
   "execution_count": 7,
   "id": "719554c9",
   "metadata": {},
   "outputs": [
    {
     "name": "stderr",
     "output_type": "stream",
     "text": [
      "<ipython-input-7-911240fdbb1f>:3: SettingWithCopyWarning: \n",
      "A value is trying to be set on a copy of a slice from a DataFrame.\n",
      "Try using .loc[row_indexer,col_indexer] = value instead\n",
      "\n",
      "See the caveats in the documentation: https://pandas.pydata.org/pandas-docs/stable/user_guide/indexing.html#returning-a-view-versus-a-copy\n",
      "  n_population['Country Name'] = n_population['Country Name'].astype('str')\n",
      "<ipython-input-7-911240fdbb1f>:4: SettingWithCopyWarning: \n",
      "A value is trying to be set on a copy of a slice from a DataFrame.\n",
      "Try using .loc[row_indexer,col_indexer] = value instead\n",
      "\n",
      "See the caveats in the documentation: https://pandas.pydata.org/pandas-docs/stable/user_guide/indexing.html#returning-a-view-versus-a-copy\n",
      "  n_population['Country Code'] = n_population['Country Code'].astype('str')\n"
     ]
    }
   ],
   "source": [
    "#Changing the datatype of the column\n",
    "\n",
    "n_population['Country Name'] = n_population['Country Name'].astype('str')\n",
    "n_population['Country Code'] = n_population['Country Code'].astype('str')\n",
    "\n"
   ]
  },
  {
   "cell_type": "code",
   "execution_count": 8,
   "id": "8f827c94",
   "metadata": {},
   "outputs": [
    {
     "data": {
      "text/html": [
       "<div>\n",
       "<style scoped>\n",
       "    .dataframe tbody tr th:only-of-type {\n",
       "        vertical-align: middle;\n",
       "    }\n",
       "\n",
       "    .dataframe tbody tr th {\n",
       "        vertical-align: top;\n",
       "    }\n",
       "\n",
       "    .dataframe thead th {\n",
       "        text-align: right;\n",
       "    }\n",
       "</style>\n",
       "<table border=\"1\" class=\"dataframe\">\n",
       "  <thead>\n",
       "    <tr style=\"text-align: right;\">\n",
       "      <th></th>\n",
       "      <th>Country Code</th>\n",
       "      <th>Country Name</th>\n",
       "      <th>Value</th>\n",
       "    </tr>\n",
       "  </thead>\n",
       "  <tbody>\n",
       "    <tr>\n",
       "      <th>58</th>\n",
       "      <td>ARB</td>\n",
       "      <td>Arab World</td>\n",
       "      <td>419790588</td>\n",
       "    </tr>\n",
       "    <tr>\n",
       "      <th>117</th>\n",
       "      <td>CSS</td>\n",
       "      <td>Caribbean small states</td>\n",
       "      <td>7358965</td>\n",
       "    </tr>\n",
       "    <tr>\n",
       "      <th>176</th>\n",
       "      <td>CEB</td>\n",
       "      <td>Central Europe and the Baltics</td>\n",
       "      <td>102511922</td>\n",
       "    </tr>\n",
       "    <tr>\n",
       "      <th>235</th>\n",
       "      <td>EAR</td>\n",
       "      <td>Early-demographic dividend</td>\n",
       "      <td>3249140605</td>\n",
       "    </tr>\n",
       "    <tr>\n",
       "      <th>294</th>\n",
       "      <td>EAS</td>\n",
       "      <td>East Asia &amp; Pacific</td>\n",
       "      <td>2328220870</td>\n",
       "    </tr>\n",
       "  </tbody>\n",
       "</table>\n",
       "</div>"
      ],
      "text/plain": [
       "    Country Code                    Country Name       Value\n",
       "58           ARB                      Arab World   419790588\n",
       "117          CSS          Caribbean small states     7358965\n",
       "176          CEB  Central Europe and the Baltics   102511922\n",
       "235          EAR      Early-demographic dividend  3249140605\n",
       "294          EAS             East Asia & Pacific  2328220870"
      ]
     },
     "execution_count": 8,
     "metadata": {},
     "output_type": "execute_result"
    }
   ],
   "source": [
    "# Retrieving the required columns \n",
    "population_df = n_population[['Country Code','Country Name','Value']]\n",
    "population_df.head()"
   ]
  },
  {
   "cell_type": "code",
   "execution_count": 9,
   "id": "35805a8b",
   "metadata": {},
   "outputs": [],
   "source": [
    "# Renaming the columns\n",
    "population_df = population_df.rename(columns={'Country Name':'country','Country Code':'country_code','Value':'population'})\n"
   ]
  },
  {
   "cell_type": "code",
   "execution_count": 10,
   "id": "80625f61",
   "metadata": {},
   "outputs": [
    {
     "data": {
      "text/html": [
       "<div>\n",
       "<style scoped>\n",
       "    .dataframe tbody tr th:only-of-type {\n",
       "        vertical-align: middle;\n",
       "    }\n",
       "\n",
       "    .dataframe tbody tr th {\n",
       "        vertical-align: top;\n",
       "    }\n",
       "\n",
       "    .dataframe thead th {\n",
       "        text-align: right;\n",
       "    }\n",
       "</style>\n",
       "<table border=\"1\" class=\"dataframe\">\n",
       "  <thead>\n",
       "    <tr style=\"text-align: right;\">\n",
       "      <th></th>\n",
       "      <th>country_code</th>\n",
       "      <th>country</th>\n",
       "      <th>population</th>\n",
       "    </tr>\n",
       "  </thead>\n",
       "  <tbody>\n",
       "    <tr>\n",
       "      <th>58</th>\n",
       "      <td>ARB</td>\n",
       "      <td>Arab World</td>\n",
       "      <td>419790588</td>\n",
       "    </tr>\n",
       "    <tr>\n",
       "      <th>117</th>\n",
       "      <td>CSS</td>\n",
       "      <td>Caribbean small states</td>\n",
       "      <td>7358965</td>\n",
       "    </tr>\n",
       "    <tr>\n",
       "      <th>176</th>\n",
       "      <td>CEB</td>\n",
       "      <td>Central Europe and the Baltics</td>\n",
       "      <td>102511922</td>\n",
       "    </tr>\n",
       "    <tr>\n",
       "      <th>235</th>\n",
       "      <td>EAR</td>\n",
       "      <td>Early-demographic dividend</td>\n",
       "      <td>3249140605</td>\n",
       "    </tr>\n",
       "    <tr>\n",
       "      <th>294</th>\n",
       "      <td>EAS</td>\n",
       "      <td>East Asia &amp; Pacific</td>\n",
       "      <td>2328220870</td>\n",
       "    </tr>\n",
       "  </tbody>\n",
       "</table>\n",
       "</div>"
      ],
      "text/plain": [
       "    country_code                         country  population\n",
       "58           ARB                      Arab World   419790588\n",
       "117          CSS          Caribbean small states     7358965\n",
       "176          CEB  Central Europe and the Baltics   102511922\n",
       "235          EAR      Early-demographic dividend  3249140605\n",
       "294          EAS             East Asia & Pacific  2328220870"
      ]
     },
     "execution_count": 10,
     "metadata": {},
     "output_type": "execute_result"
    }
   ],
   "source": [
    "# Final population dataframe\n",
    "population_df.head()"
   ]
  },
  {
   "cell_type": "markdown",
   "id": "4249fb49",
   "metadata": {},
   "source": [
    "## Extraction: Data 2 - Pharmaceutical spending data from CSV file"
   ]
  },
  {
   "cell_type": "code",
   "execution_count": 11,
   "id": "75993476",
   "metadata": {},
   "outputs": [],
   "source": [
    "pharma_df = pd.read_csv(\"health_data.csv\")"
   ]
  },
  {
   "cell_type": "code",
   "execution_count": 12,
   "id": "9766ab06",
   "metadata": {},
   "outputs": [
    {
     "data": {
      "text/html": [
       "<div>\n",
       "<style scoped>\n",
       "    .dataframe tbody tr th:only-of-type {\n",
       "        vertical-align: middle;\n",
       "    }\n",
       "\n",
       "    .dataframe tbody tr th {\n",
       "        vertical-align: top;\n",
       "    }\n",
       "\n",
       "    .dataframe thead th {\n",
       "        text-align: right;\n",
       "    }\n",
       "</style>\n",
       "<table border=\"1\" class=\"dataframe\">\n",
       "  <thead>\n",
       "    <tr style=\"text-align: right;\">\n",
       "      <th></th>\n",
       "      <th>LOCATION</th>\n",
       "      <th>INDICATOR</th>\n",
       "      <th>SUBJECT</th>\n",
       "      <th>MEASURE</th>\n",
       "      <th>FREQUENCY</th>\n",
       "      <th>TIME</th>\n",
       "      <th>Value</th>\n",
       "      <th>Flag Codes</th>\n",
       "    </tr>\n",
       "  </thead>\n",
       "  <tbody>\n",
       "    <tr>\n",
       "      <th>0</th>\n",
       "      <td>AUS</td>\n",
       "      <td>PHARMAEXP</td>\n",
       "      <td>TOT</td>\n",
       "      <td>PC_HEALTHXP</td>\n",
       "      <td>A</td>\n",
       "      <td>1971</td>\n",
       "      <td>15.992</td>\n",
       "      <td>NaN</td>\n",
       "    </tr>\n",
       "    <tr>\n",
       "      <th>1</th>\n",
       "      <td>AUS</td>\n",
       "      <td>PHARMAEXP</td>\n",
       "      <td>TOT</td>\n",
       "      <td>PC_HEALTHXP</td>\n",
       "      <td>A</td>\n",
       "      <td>1972</td>\n",
       "      <td>15.091</td>\n",
       "      <td>NaN</td>\n",
       "    </tr>\n",
       "    <tr>\n",
       "      <th>2</th>\n",
       "      <td>AUS</td>\n",
       "      <td>PHARMAEXP</td>\n",
       "      <td>TOT</td>\n",
       "      <td>PC_HEALTHXP</td>\n",
       "      <td>A</td>\n",
       "      <td>1973</td>\n",
       "      <td>15.117</td>\n",
       "      <td>NaN</td>\n",
       "    </tr>\n",
       "    <tr>\n",
       "      <th>3</th>\n",
       "      <td>AUS</td>\n",
       "      <td>PHARMAEXP</td>\n",
       "      <td>TOT</td>\n",
       "      <td>PC_HEALTHXP</td>\n",
       "      <td>A</td>\n",
       "      <td>1974</td>\n",
       "      <td>14.771</td>\n",
       "      <td>NaN</td>\n",
       "    </tr>\n",
       "    <tr>\n",
       "      <th>4</th>\n",
       "      <td>AUS</td>\n",
       "      <td>PHARMAEXP</td>\n",
       "      <td>TOT</td>\n",
       "      <td>PC_HEALTHXP</td>\n",
       "      <td>A</td>\n",
       "      <td>1975</td>\n",
       "      <td>11.849</td>\n",
       "      <td>NaN</td>\n",
       "    </tr>\n",
       "  </tbody>\n",
       "</table>\n",
       "</div>"
      ],
      "text/plain": [
       "  LOCATION  INDICATOR SUBJECT      MEASURE FREQUENCY  TIME   Value Flag Codes\n",
       "0      AUS  PHARMAEXP     TOT  PC_HEALTHXP         A  1971  15.992        NaN\n",
       "1      AUS  PHARMAEXP     TOT  PC_HEALTHXP         A  1972  15.091        NaN\n",
       "2      AUS  PHARMAEXP     TOT  PC_HEALTHXP         A  1973  15.117        NaN\n",
       "3      AUS  PHARMAEXP     TOT  PC_HEALTHXP         A  1974  14.771        NaN\n",
       "4      AUS  PHARMAEXP     TOT  PC_HEALTHXP         A  1975  11.849        NaN"
      ]
     },
     "execution_count": 12,
     "metadata": {},
     "output_type": "execute_result"
    }
   ],
   "source": [
    "pharma_df.head()"
   ]
  },
  {
   "cell_type": "markdown",
   "id": "8873ad21",
   "metadata": {},
   "source": [
    "## Transformartion"
   ]
  },
  {
   "cell_type": "code",
   "execution_count": 13,
   "id": "ac1702b1",
   "metadata": {},
   "outputs": [],
   "source": [
    "# Removing unwanted column\n",
    "\n",
    "pharma_df = pharma_df.drop('Flag Codes', axis = 1)"
   ]
  },
  {
   "cell_type": "code",
   "execution_count": 14,
   "id": "d0bc95af",
   "metadata": {},
   "outputs": [
    {
     "data": {
      "text/html": [
       "<div>\n",
       "<style scoped>\n",
       "    .dataframe tbody tr th:only-of-type {\n",
       "        vertical-align: middle;\n",
       "    }\n",
       "\n",
       "    .dataframe tbody tr th {\n",
       "        vertical-align: top;\n",
       "    }\n",
       "\n",
       "    .dataframe thead th {\n",
       "        text-align: right;\n",
       "    }\n",
       "</style>\n",
       "<table border=\"1\" class=\"dataframe\">\n",
       "  <thead>\n",
       "    <tr style=\"text-align: right;\">\n",
       "      <th></th>\n",
       "      <th>LOCATION</th>\n",
       "      <th>INDICATOR</th>\n",
       "      <th>SUBJECT</th>\n",
       "      <th>MEASURE</th>\n",
       "      <th>FREQUENCY</th>\n",
       "      <th>TIME</th>\n",
       "      <th>Value</th>\n",
       "    </tr>\n",
       "  </thead>\n",
       "  <tbody>\n",
       "    <tr>\n",
       "      <th>0</th>\n",
       "      <td>AUS</td>\n",
       "      <td>PHARMAEXP</td>\n",
       "      <td>TOT</td>\n",
       "      <td>PC_HEALTHXP</td>\n",
       "      <td>A</td>\n",
       "      <td>1971</td>\n",
       "      <td>15.992</td>\n",
       "    </tr>\n",
       "    <tr>\n",
       "      <th>1</th>\n",
       "      <td>AUS</td>\n",
       "      <td>PHARMAEXP</td>\n",
       "      <td>TOT</td>\n",
       "      <td>PC_HEALTHXP</td>\n",
       "      <td>A</td>\n",
       "      <td>1972</td>\n",
       "      <td>15.091</td>\n",
       "    </tr>\n",
       "    <tr>\n",
       "      <th>2</th>\n",
       "      <td>AUS</td>\n",
       "      <td>PHARMAEXP</td>\n",
       "      <td>TOT</td>\n",
       "      <td>PC_HEALTHXP</td>\n",
       "      <td>A</td>\n",
       "      <td>1973</td>\n",
       "      <td>15.117</td>\n",
       "    </tr>\n",
       "    <tr>\n",
       "      <th>3</th>\n",
       "      <td>AUS</td>\n",
       "      <td>PHARMAEXP</td>\n",
       "      <td>TOT</td>\n",
       "      <td>PC_HEALTHXP</td>\n",
       "      <td>A</td>\n",
       "      <td>1974</td>\n",
       "      <td>14.771</td>\n",
       "    </tr>\n",
       "    <tr>\n",
       "      <th>4</th>\n",
       "      <td>AUS</td>\n",
       "      <td>PHARMAEXP</td>\n",
       "      <td>TOT</td>\n",
       "      <td>PC_HEALTHXP</td>\n",
       "      <td>A</td>\n",
       "      <td>1975</td>\n",
       "      <td>11.849</td>\n",
       "    </tr>\n",
       "  </tbody>\n",
       "</table>\n",
       "</div>"
      ],
      "text/plain": [
       "  LOCATION  INDICATOR SUBJECT      MEASURE FREQUENCY  TIME   Value\n",
       "0      AUS  PHARMAEXP     TOT  PC_HEALTHXP         A  1971  15.992\n",
       "1      AUS  PHARMAEXP     TOT  PC_HEALTHXP         A  1972  15.091\n",
       "2      AUS  PHARMAEXP     TOT  PC_HEALTHXP         A  1973  15.117\n",
       "3      AUS  PHARMAEXP     TOT  PC_HEALTHXP         A  1974  14.771\n",
       "4      AUS  PHARMAEXP     TOT  PC_HEALTHXP         A  1975  11.849"
      ]
     },
     "execution_count": 14,
     "metadata": {},
     "output_type": "execute_result"
    }
   ],
   "source": [
    "pharma_df.head()"
   ]
  },
  {
   "cell_type": "code",
   "execution_count": 15,
   "id": "93ccdbdb",
   "metadata": {},
   "outputs": [
    {
     "data": {
      "text/html": [
       "<div>\n",
       "<style scoped>\n",
       "    .dataframe tbody tr th:only-of-type {\n",
       "        vertical-align: middle;\n",
       "    }\n",
       "\n",
       "    .dataframe tbody tr th {\n",
       "        vertical-align: top;\n",
       "    }\n",
       "\n",
       "    .dataframe thead th {\n",
       "        text-align: right;\n",
       "    }\n",
       "</style>\n",
       "<table border=\"1\" class=\"dataframe\">\n",
       "  <thead>\n",
       "    <tr style=\"text-align: right;\">\n",
       "      <th></th>\n",
       "      <th>LOCATION</th>\n",
       "      <th>INDICATOR</th>\n",
       "      <th>SUBJECT</th>\n",
       "      <th>MEASURE</th>\n",
       "      <th>FREQUENCY</th>\n",
       "      <th>TIME</th>\n",
       "      <th>Value</th>\n",
       "    </tr>\n",
       "  </thead>\n",
       "  <tbody>\n",
       "    <tr>\n",
       "      <th>47</th>\n",
       "      <td>AUS</td>\n",
       "      <td>PHARMAEXP</td>\n",
       "      <td>TOT</td>\n",
       "      <td>PC_HEALTHXP</td>\n",
       "      <td>A</td>\n",
       "      <td>2018</td>\n",
       "      <td>13.839</td>\n",
       "    </tr>\n",
       "    <tr>\n",
       "      <th>76</th>\n",
       "      <td>AUT</td>\n",
       "      <td>PHARMAEXP</td>\n",
       "      <td>TOT</td>\n",
       "      <td>PC_HEALTHXP</td>\n",
       "      <td>A</td>\n",
       "      <td>2018</td>\n",
       "      <td>11.927</td>\n",
       "    </tr>\n",
       "    <tr>\n",
       "      <th>121</th>\n",
       "      <td>BEL</td>\n",
       "      <td>PHARMAEXP</td>\n",
       "      <td>TOT</td>\n",
       "      <td>PC_HEALTHXP</td>\n",
       "      <td>A</td>\n",
       "      <td>2018</td>\n",
       "      <td>11.333</td>\n",
       "    </tr>\n",
       "    <tr>\n",
       "      <th>171</th>\n",
       "      <td>CAN</td>\n",
       "      <td>PHARMAEXP</td>\n",
       "      <td>TOT</td>\n",
       "      <td>PC_HEALTHXP</td>\n",
       "      <td>A</td>\n",
       "      <td>2018</td>\n",
       "      <td>16.130</td>\n",
       "    </tr>\n",
       "    <tr>\n",
       "      <th>201</th>\n",
       "      <td>CZE</td>\n",
       "      <td>PHARMAEXP</td>\n",
       "      <td>TOT</td>\n",
       "      <td>PC_HEALTHXP</td>\n",
       "      <td>A</td>\n",
       "      <td>2018</td>\n",
       "      <td>16.033</td>\n",
       "    </tr>\n",
       "  </tbody>\n",
       "</table>\n",
       "</div>"
      ],
      "text/plain": [
       "    LOCATION  INDICATOR SUBJECT      MEASURE FREQUENCY  TIME   Value\n",
       "47       AUS  PHARMAEXP     TOT  PC_HEALTHXP         A  2018  13.839\n",
       "76       AUT  PHARMAEXP     TOT  PC_HEALTHXP         A  2018  11.927\n",
       "121      BEL  PHARMAEXP     TOT  PC_HEALTHXP         A  2018  11.333\n",
       "171      CAN  PHARMAEXP     TOT  PC_HEALTHXP         A  2018  16.130\n",
       "201      CZE  PHARMAEXP     TOT  PC_HEALTHXP         A  2018  16.033"
      ]
     },
     "execution_count": 15,
     "metadata": {},
     "output_type": "execute_result"
    }
   ],
   "source": [
    "# Filtering based on year\n",
    "\n",
    "n_pharma = pharma_df[pharma_df.TIME == 2018]\n",
    "n_pharma.head()"
   ]
  },
  {
   "cell_type": "code",
   "execution_count": 16,
   "id": "d4f9e7d9",
   "metadata": {},
   "outputs": [
    {
     "data": {
      "text/html": [
       "<div>\n",
       "<style scoped>\n",
       "    .dataframe tbody tr th:only-of-type {\n",
       "        vertical-align: middle;\n",
       "    }\n",
       "\n",
       "    .dataframe tbody tr th {\n",
       "        vertical-align: top;\n",
       "    }\n",
       "\n",
       "    .dataframe thead th {\n",
       "        text-align: right;\n",
       "    }\n",
       "</style>\n",
       "<table border=\"1\" class=\"dataframe\">\n",
       "  <thead>\n",
       "    <tr style=\"text-align: right;\">\n",
       "      <th></th>\n",
       "      <th>LOCATION</th>\n",
       "      <th>INDICATOR</th>\n",
       "      <th>SUBJECT</th>\n",
       "      <th>MEASURE</th>\n",
       "      <th>FREQUENCY</th>\n",
       "      <th>TIME</th>\n",
       "      <th>Value</th>\n",
       "    </tr>\n",
       "  </thead>\n",
       "  <tbody>\n",
       "    <tr>\n",
       "      <th>47</th>\n",
       "      <td>AUS</td>\n",
       "      <td>PHARMAEXP</td>\n",
       "      <td>TOT</td>\n",
       "      <td>PC_HEALTHXP</td>\n",
       "      <td>A</td>\n",
       "      <td>2018</td>\n",
       "      <td>13.839</td>\n",
       "    </tr>\n",
       "    <tr>\n",
       "      <th>76</th>\n",
       "      <td>AUT</td>\n",
       "      <td>PHARMAEXP</td>\n",
       "      <td>TOT</td>\n",
       "      <td>PC_HEALTHXP</td>\n",
       "      <td>A</td>\n",
       "      <td>2018</td>\n",
       "      <td>11.927</td>\n",
       "    </tr>\n",
       "    <tr>\n",
       "      <th>121</th>\n",
       "      <td>BEL</td>\n",
       "      <td>PHARMAEXP</td>\n",
       "      <td>TOT</td>\n",
       "      <td>PC_HEALTHXP</td>\n",
       "      <td>A</td>\n",
       "      <td>2018</td>\n",
       "      <td>11.333</td>\n",
       "    </tr>\n",
       "    <tr>\n",
       "      <th>171</th>\n",
       "      <td>CAN</td>\n",
       "      <td>PHARMAEXP</td>\n",
       "      <td>TOT</td>\n",
       "      <td>PC_HEALTHXP</td>\n",
       "      <td>A</td>\n",
       "      <td>2018</td>\n",
       "      <td>16.130</td>\n",
       "    </tr>\n",
       "    <tr>\n",
       "      <th>201</th>\n",
       "      <td>CZE</td>\n",
       "      <td>PHARMAEXP</td>\n",
       "      <td>TOT</td>\n",
       "      <td>PC_HEALTHXP</td>\n",
       "      <td>A</td>\n",
       "      <td>2018</td>\n",
       "      <td>16.033</td>\n",
       "    </tr>\n",
       "  </tbody>\n",
       "</table>\n",
       "</div>"
      ],
      "text/plain": [
       "    LOCATION  INDICATOR SUBJECT      MEASURE FREQUENCY  TIME   Value\n",
       "47       AUS  PHARMAEXP     TOT  PC_HEALTHXP         A  2018  13.839\n",
       "76       AUT  PHARMAEXP     TOT  PC_HEALTHXP         A  2018  11.927\n",
       "121      BEL  PHARMAEXP     TOT  PC_HEALTHXP         A  2018  11.333\n",
       "171      CAN  PHARMAEXP     TOT  PC_HEALTHXP         A  2018  16.130\n",
       "201      CZE  PHARMAEXP     TOT  PC_HEALTHXP         A  2018  16.033"
      ]
     },
     "execution_count": 16,
     "metadata": {},
     "output_type": "execute_result"
    }
   ],
   "source": [
    "# Filter based on % of pharmaceutical spending\n",
    "n_pharma = n_pharma[n_pharma.MEASURE == 'PC_HEALTHXP']\n",
    "n_pharma.head()"
   ]
  },
  {
   "cell_type": "code",
   "execution_count": 17,
   "id": "fce9cc4f",
   "metadata": {},
   "outputs": [
    {
     "data": {
      "text/plain": [
       "pandas.core.frame.DataFrame"
      ]
     },
     "execution_count": 17,
     "metadata": {},
     "output_type": "execute_result"
    }
   ],
   "source": [
    "type(n_pharma)"
   ]
  },
  {
   "cell_type": "code",
   "execution_count": 18,
   "id": "7292a3a6",
   "metadata": {},
   "outputs": [
    {
     "name": "stdout",
     "output_type": "stream",
     "text": [
      "<class 'pandas.core.frame.DataFrame'>\n",
      "Int64Index: 39 entries, 47 to 3775\n",
      "Data columns (total 7 columns):\n",
      " #   Column     Non-Null Count  Dtype  \n",
      "---  ------     --------------  -----  \n",
      " 0   LOCATION   39 non-null     object \n",
      " 1   INDICATOR  39 non-null     object \n",
      " 2   SUBJECT    39 non-null     object \n",
      " 3   MEASURE    39 non-null     object \n",
      " 4   FREQUENCY  39 non-null     object \n",
      " 5   TIME       39 non-null     int64  \n",
      " 6   Value      39 non-null     float64\n",
      "dtypes: float64(1), int64(1), object(5)\n",
      "memory usage: 2.4+ KB\n"
     ]
    }
   ],
   "source": [
    "# Describing data\n",
    "n_pharma.info()"
   ]
  },
  {
   "cell_type": "code",
   "execution_count": 19,
   "id": "12f2a378",
   "metadata": {},
   "outputs": [],
   "source": [
    "# Changing data type\n",
    "\n",
    "n_pharma['LOCATION'] = n_pharma['LOCATION'].astype('str')"
   ]
  },
  {
   "cell_type": "code",
   "execution_count": 20,
   "id": "608d1c6e",
   "metadata": {},
   "outputs": [],
   "source": [
    "# Selecting required columns\n",
    "\n",
    "pharma_spending_df = n_pharma[['LOCATION','Value']]\n"
   ]
  },
  {
   "cell_type": "code",
   "execution_count": 21,
   "id": "8a09ce81",
   "metadata": {},
   "outputs": [
    {
     "data": {
      "text/html": [
       "<div>\n",
       "<style scoped>\n",
       "    .dataframe tbody tr th:only-of-type {\n",
       "        vertical-align: middle;\n",
       "    }\n",
       "\n",
       "    .dataframe tbody tr th {\n",
       "        vertical-align: top;\n",
       "    }\n",
       "\n",
       "    .dataframe thead th {\n",
       "        text-align: right;\n",
       "    }\n",
       "</style>\n",
       "<table border=\"1\" class=\"dataframe\">\n",
       "  <thead>\n",
       "    <tr style=\"text-align: right;\">\n",
       "      <th></th>\n",
       "      <th>country_code</th>\n",
       "      <th>percent_pharmaceutical_spending</th>\n",
       "    </tr>\n",
       "  </thead>\n",
       "  <tbody>\n",
       "    <tr>\n",
       "      <th>47</th>\n",
       "      <td>AUS</td>\n",
       "      <td>13.839</td>\n",
       "    </tr>\n",
       "    <tr>\n",
       "      <th>76</th>\n",
       "      <td>AUT</td>\n",
       "      <td>11.927</td>\n",
       "    </tr>\n",
       "    <tr>\n",
       "      <th>121</th>\n",
       "      <td>BEL</td>\n",
       "      <td>11.333</td>\n",
       "    </tr>\n",
       "    <tr>\n",
       "      <th>171</th>\n",
       "      <td>CAN</td>\n",
       "      <td>16.130</td>\n",
       "    </tr>\n",
       "    <tr>\n",
       "      <th>201</th>\n",
       "      <td>CZE</td>\n",
       "      <td>16.033</td>\n",
       "    </tr>\n",
       "  </tbody>\n",
       "</table>\n",
       "</div>"
      ],
      "text/plain": [
       "    country_code  percent_pharmaceutical_spending\n",
       "47           AUS                           13.839\n",
       "76           AUT                           11.927\n",
       "121          BEL                           11.333\n",
       "171          CAN                           16.130\n",
       "201          CZE                           16.033"
      ]
     },
     "execution_count": 21,
     "metadata": {},
     "output_type": "execute_result"
    }
   ],
   "source": [
    "# Final Pharmaceutical data \n",
    "\n",
    "pharma_spending_df = pharma_spending_df.rename(columns = {'LOCATION':'country_code','Value':'percent_pharmaceutical_spending'})\n",
    "pharma_spending_df.head()"
   ]
  },
  {
   "cell_type": "markdown",
   "id": "36f63dd3",
   "metadata": {},
   "source": [
    "## Connect to Postgres SQL"
   ]
  },
  {
   "cell_type": "code",
   "execution_count": 22,
   "id": "d82b65a0",
   "metadata": {},
   "outputs": [],
   "source": [
    "connection_string = \"postgres:postgres@localhost:5432/pharma_db\"\n",
    "engine = create_engine(f'postgresql://{connection_string}')"
   ]
  },
  {
   "cell_type": "code",
   "execution_count": 23,
   "id": "dda18ff1",
   "metadata": {},
   "outputs": [
    {
     "name": "stderr",
     "output_type": "stream",
     "text": [
      "<ipython-input-23-d72bc75a6b62>:1: SADeprecationWarning: The Engine.table_names() method is deprecated and will be removed in a future release.  Please refer to Inspector.get_table_names(). (deprecated since: 1.4)\n",
      "  engine.table_names()\n"
     ]
    },
    {
     "data": {
      "text/plain": [
       "[]"
      ]
     },
     "execution_count": 23,
     "metadata": {},
     "output_type": "execute_result"
    }
   ],
   "source": [
    "engine.table_names()"
   ]
  },
  {
   "cell_type": "markdown",
   "id": "58b9d80e",
   "metadata": {},
   "source": [
    "### Use pandas to load JSON converted DataFrame into database"
   ]
  },
  {
   "cell_type": "code",
   "execution_count": 28,
   "id": "a97d6c77",
   "metadata": {},
   "outputs": [],
   "source": [
    "\n",
    "# We can only add once as country_code column has primary key constarint in db\n",
    "\n",
    "# population_df.to_sql(name='population', con=engine, if_exists='append', index=False)"
   ]
  },
  {
   "cell_type": "markdown",
   "id": "ec6c740f",
   "metadata": {},
   "source": [
    "### Use pandas to load csv converted DataFrame into database"
   ]
  },
  {
   "cell_type": "code",
   "execution_count": 29,
   "id": "cd78aa2f",
   "metadata": {},
   "outputs": [],
   "source": [
    "# We can only add once as country_code column has primary key constarint in db\n",
    "\n",
    "# pharma_spending_df.to_sql(name='pharma_spending', con=engine, if_exists='append', index=False)"
   ]
  },
  {
   "cell_type": "markdown",
   "id": "4073f862",
   "metadata": {},
   "source": [
    "## Joining the datas"
   ]
  },
  {
   "cell_type": "code",
   "execution_count": 26,
   "id": "87aa96c7",
   "metadata": {},
   "outputs": [
    {
     "data": {
      "text/html": [
       "<div>\n",
       "<style scoped>\n",
       "    .dataframe tbody tr th:only-of-type {\n",
       "        vertical-align: middle;\n",
       "    }\n",
       "\n",
       "    .dataframe tbody tr th {\n",
       "        vertical-align: top;\n",
       "    }\n",
       "\n",
       "    .dataframe thead th {\n",
       "        text-align: right;\n",
       "    }\n",
       "</style>\n",
       "<table border=\"1\" class=\"dataframe\">\n",
       "  <thead>\n",
       "    <tr style=\"text-align: right;\">\n",
       "      <th></th>\n",
       "      <th>country_code</th>\n",
       "      <th>country</th>\n",
       "      <th>population</th>\n",
       "      <th>percent_pharmaceutical_spending</th>\n",
       "    </tr>\n",
       "  </thead>\n",
       "  <tbody>\n",
       "    <tr>\n",
       "      <th>0</th>\n",
       "      <td>AUS</td>\n",
       "      <td>Australia</td>\n",
       "      <td>24982688</td>\n",
       "      <td>13.839</td>\n",
       "    </tr>\n",
       "    <tr>\n",
       "      <th>1</th>\n",
       "      <td>AUT</td>\n",
       "      <td>Austria</td>\n",
       "      <td>8840521</td>\n",
       "      <td>11.927</td>\n",
       "    </tr>\n",
       "    <tr>\n",
       "      <th>2</th>\n",
       "      <td>BEL</td>\n",
       "      <td>Belgium</td>\n",
       "      <td>11433256</td>\n",
       "      <td>11.333</td>\n",
       "    </tr>\n",
       "    <tr>\n",
       "      <th>3</th>\n",
       "      <td>BGR</td>\n",
       "      <td>Bulgaria</td>\n",
       "      <td>7025037</td>\n",
       "      <td>35.409</td>\n",
       "    </tr>\n",
       "    <tr>\n",
       "      <th>4</th>\n",
       "      <td>CAN</td>\n",
       "      <td>Canada</td>\n",
       "      <td>37057765</td>\n",
       "      <td>16.130</td>\n",
       "    </tr>\n",
       "  </tbody>\n",
       "</table>\n",
       "</div>"
      ],
      "text/plain": [
       "  country_code    country  population  percent_pharmaceutical_spending\n",
       "0          AUS  Australia    24982688                           13.839\n",
       "1          AUT    Austria     8840521                           11.927\n",
       "2          BEL    Belgium    11433256                           11.333\n",
       "3          BGR   Bulgaria     7025037                           35.409\n",
       "4          CAN     Canada    37057765                           16.130"
      ]
     },
     "execution_count": 26,
     "metadata": {},
     "output_type": "execute_result"
    }
   ],
   "source": [
    "global_pharmaceutical_spending_df = pd.merge(population_df, pharma_spending_df )\n",
    "global_pharmaceutical_spending_df.head(5)"
   ]
  },
  {
   "cell_type": "code",
   "execution_count": 27,
   "id": "3554d9e9",
   "metadata": {},
   "outputs": [
    {
     "data": {
      "text/html": [
       "<div>\n",
       "<style scoped>\n",
       "    .dataframe tbody tr th:only-of-type {\n",
       "        vertical-align: middle;\n",
       "    }\n",
       "\n",
       "    .dataframe tbody tr th {\n",
       "        vertical-align: top;\n",
       "    }\n",
       "\n",
       "    .dataframe thead th {\n",
       "        text-align: right;\n",
       "    }\n",
       "</style>\n",
       "<table border=\"1\" class=\"dataframe\">\n",
       "  <thead>\n",
       "    <tr style=\"text-align: right;\">\n",
       "      <th></th>\n",
       "      <th>country_code</th>\n",
       "      <th>country</th>\n",
       "      <th>population</th>\n",
       "      <th>percent_pharmaceutical_spending</th>\n",
       "    </tr>\n",
       "  </thead>\n",
       "  <tbody>\n",
       "    <tr>\n",
       "      <th>3</th>\n",
       "      <td>BGR</td>\n",
       "      <td>Bulgaria</td>\n",
       "      <td>7025037</td>\n",
       "      <td>35.409</td>\n",
       "    </tr>\n",
       "    <tr>\n",
       "      <th>15</th>\n",
       "      <td>HUN</td>\n",
       "      <td>Hungary</td>\n",
       "      <td>9775564</td>\n",
       "      <td>26.922</td>\n",
       "    </tr>\n",
       "    <tr>\n",
       "      <th>21</th>\n",
       "      <td>LVA</td>\n",
       "      <td>Latvia</td>\n",
       "      <td>1927174</td>\n",
       "      <td>26.487</td>\n",
       "    </tr>\n",
       "    <tr>\n",
       "      <th>14</th>\n",
       "      <td>GRC</td>\n",
       "      <td>Greece</td>\n",
       "      <td>10731726</td>\n",
       "      <td>26.144</td>\n",
       "    </tr>\n",
       "    <tr>\n",
       "      <th>32</th>\n",
       "      <td>SVK</td>\n",
       "      <td>Slovak Republic</td>\n",
       "      <td>5446771</td>\n",
       "      <td>25.513</td>\n",
       "    </tr>\n",
       "  </tbody>\n",
       "</table>\n",
       "</div>"
      ],
      "text/plain": [
       "   country_code          country  population  percent_pharmaceutical_spending\n",
       "3           BGR         Bulgaria     7025037                           35.409\n",
       "15          HUN          Hungary     9775564                           26.922\n",
       "21          LVA           Latvia     1927174                           26.487\n",
       "14          GRC           Greece    10731726                           26.144\n",
       "32          SVK  Slovak Republic     5446771                           25.513"
      ]
     },
     "execution_count": 27,
     "metadata": {},
     "output_type": "execute_result"
    }
   ],
   "source": [
    "global_pharmaceutical_spending_df = global_pharmaceutical_spending_df.sort_values(by=['percent_pharmaceutical_spending'], ascending=False)\n",
    "global_pharmaceutical_spending_df.head(5)"
   ]
  },
  {
   "cell_type": "code",
   "execution_count": null,
   "id": "3353dd0f",
   "metadata": {},
   "outputs": [],
   "source": []
  },
  {
   "cell_type": "code",
   "execution_count": null,
   "id": "6500c812",
   "metadata": {},
   "outputs": [],
   "source": []
  },
  {
   "cell_type": "code",
   "execution_count": null,
   "id": "5dc296c1",
   "metadata": {},
   "outputs": [],
   "source": []
  },
  {
   "cell_type": "code",
   "execution_count": null,
   "id": "5845eaf4",
   "metadata": {},
   "outputs": [],
   "source": []
  }
 ],
 "metadata": {
  "kernelspec": {
   "display_name": "Python 3",
   "language": "python",
   "name": "python3"
  },
  "language_info": {
   "codemirror_mode": {
    "name": "ipython",
    "version": 3
   },
   "file_extension": ".py",
   "mimetype": "text/x-python",
   "name": "python",
   "nbconvert_exporter": "python",
   "pygments_lexer": "ipython3",
   "version": "3.8.8"
  }
 },
 "nbformat": 4,
 "nbformat_minor": 5
}
